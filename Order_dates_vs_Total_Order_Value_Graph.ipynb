{
  "nbformat": 4,
  "nbformat_minor": 0,
  "metadata": {
    "colab": {
      "provenance": []
    },
    "kernelspec": {
      "name": "python3",
      "display_name": "Python 3"
    },
    "language_info": {
      "name": "python"
    }
  },
  "cells": [
    {
      "cell_type": "code",
      "source": [
        "import pandas as pd\n",
        "import matplotlib.pyplot as plt\n",
        "\n",
        "# Load the CSV file\n",
        "file_path = '/mnt/order_data.csv'\n",
        "df = pd.read_csv(file_path)\n",
        "\n",
        "# Check the first few rows to understand the structure\n",
        "df.head()"
      ],
      "metadata": {
        "id": "npvCWL-Hm9X0"
      },
      "execution_count": null,
      "outputs": []
    },
    {
      "cell_type": "code",
      "source": [
        "import json\n",
        "\n",
        "# Function to calculate total value from the ORDERS JSON string\n",
        "def calculate_order_value(order_json_str):\n",
        "    try:\n",
        "        data = json.loads(order_json_str)\n",
        "        total_value = 0\n",
        "        for order in data.get(\"orders\", []):\n",
        "            for item in order.get(\"item_details\", []):\n",
        "                total_value += item.get(\"item_price\", 0) * item.get(\"item_quantity\", 0)\n",
        "        return total_value\n",
        "    except Exception as e:\n",
        "        return 0\n",
        "\n",
        "# Calculate order value for each row\n",
        "df['order_value'] = df['ORDERS'].apply(calculate_order_value)\n",
        "\n",
        "# Convert date to datetime format\n",
        "df['ORDER_CREATED_DATE'] = pd.to_datetime(df['ORDER_CREATED_DATE'], format='%d-%m-%Y')\n",
        "\n",
        "# Group by date and sum the order values\n",
        "daily_order_values = df.groupby('ORDER_CREATED_DATE')['order_value'].sum().reset_index()\n",
        "\n",
        "# Plot\n",
        "plt.figure(figsize=(10, 5))\n",
        "plt.plot(daily_order_values['ORDER_CREATED_DATE'], daily_order_values['order_value'], marker='o')\n",
        "plt.title('Total Order Value by Date')\n",
        "plt.xlabel('Order Created Date')\n",
        "plt.ylabel('Total Order Value')\n",
        "plt.grid(True)\n",
        "plt.xticks(rotation=45)\n",
        "plt.tight_layout()\n",
        "plt.show()"
      ],
      "metadata": {
        "id": "nqnUJ_k0lmuh"
      },
      "execution_count": null,
      "outputs": []
    }
  ]
}